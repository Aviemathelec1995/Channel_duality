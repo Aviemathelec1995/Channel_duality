{
  "nbformat": 4,
  "nbformat_minor": 0,
  "metadata": {
    "colab": {
      "provenance": []
    },
    "kernelspec": {
      "name": "python3",
      "display_name": "Python 3"
    },
    "language_info": {
      "name": "python"
    }
  },
  "cells": [
    {
      "cell_type": "code",
      "execution_count": 22,
      "metadata": {
        "id": "PR4iwFoLv3jI"
      },
      "outputs": [],
      "source": [
        "import numpy as np\n",
        "from numpy import linalg as LA\n",
        "import jax\n",
        "import jax.numpy as jnp\n",
        "from jax import grad, jit, vmap\n",
        "from scipy.linalg import sqrtm\n",
        "from numpy.linalg import matrix_rank\n",
        "from jax.numpy import linalg as jla\n",
        "from scipy.linalg import logm, expm\n",
        "from google.colab import files\n",
        "import copy\n",
        "import numba\n",
        "from numba import int64, float64, jit, njit, vectorize\n",
        "import matplotlib.pyplot as pl"
      ]
    },
    {
      "cell_type": "markdown",
      "source": [
        "Code for computing Pauli and density operatrors "
      ],
      "metadata": {
        "id": "4uTMssUKaDnO"
      }
    },
    {
      "cell_type": "code",
      "source": [
        "def pauli(x):\n",
        "    if x==0:\n",
        "        return np.array([[1,0],[0,1]])\n",
        "    if x==1:\n",
        "        return np.array([[0,1],[1,0]])\n",
        "    if x==2:\n",
        "        return np.array([[0,-1j],[+1j,0]])\n",
        "    if x==3:\n",
        "        return np.array([[1,0],[0,-1]])\n",
        "    else:\n",
        "        print('invalid')\n",
        "\n",
        "#qubit\n",
        "def qubit(x):\n",
        "    if x==0:\n",
        "        return np.array([1,0])\n",
        "    if x==1:\n",
        "        return np.array([0,1])\n",
        "    else:\n",
        "        print('invalid')\n",
        "\n",
        "def theta(th):\n",
        "    return np.cos(th/2)*qubit(0)+ np.sin(th/2)*qubit(1)\n",
        "\n",
        "@njit\n",
        "def rhom_jit(delta:float64,g:float64) -> (float64[:,:]):\n",
        "    return np.array([[delta, g],[g, 1-delta]],dtype=float64)"
      ],
      "metadata": {
        "id": "fK9Hr0Z9QpK2"
      },
      "execution_count": 23,
      "outputs": []
    },
    {
      "cell_type": "markdown",
      "source": [
        "Computing Helstrom success probability for two given density matrices"
      ],
      "metadata": {
        "id": "dgJF7wPKltbk"
      }
    },
    {
      "cell_type": "code",
      "source": [
        "def helstrom(density_mat1,density_mat2):\n",
        "  r1=density_mat1\n",
        "  r2=density_mat2\n",
        "  l,v=jla.eigh(r1-r2)\n",
        "  return l,v\n",
        "\n",
        "def helstrom_success_form(rho0,rho1):\n",
        "  l,vec=helstrom(rho0,rho1)\n",
        "  return 0.5*(1+0.5*np.sum(np.abs(l)))\n",
        "\n",
        "def helstrom_success_rho(rho0,rho1):\n",
        "  l,vec=helstrom(rho0,rho1)\n",
        "  v_pos_eig = jnp.array(vec[:,l>0])\n",
        "  v_pos_eigh= jnp.conjugate(jnp.transpose(v_pos_eig))\n",
        "  p1=jnp.trace(v_pos_eigh @ rho0 @ v_pos_eig)\n",
        "  p2=1-jnp.trace(v_pos_eigh@ rho1 @ v_pos_eig)\n",
        "  return 0.5*(p1+p2)\n"
      ],
      "metadata": {
        "id": "dYJQo9WpQsQr"
      },
      "execution_count": 24,
      "outputs": []
    },
    {
      "cell_type": "markdown",
      "source": [
        "Computing Von-neumann and channel entropy"
      ],
      "metadata": {
        "id": "qyRiuh3alzQi"
      }
    },
    {
      "cell_type": "code",
      "source": [
        "def von_neumann(rho):\n",
        "    rho_log=logm(rho,False)[0]/np.log(2)\n",
        "    return -jnp.trace(rho@rho_log)\n",
        "def matrix_power(m,power):\n",
        "    if power==1:\n",
        "        return m\n",
        "    else:\n",
        "        return matrix_power(m,power-1)@m\n",
        "'''\n",
        "code to compute logarithm of matrix\n",
        "\n",
        "'''\n",
        "def matrix_log(m):\n",
        "    l=jnp.zeros(jnp.shape(m))\n",
        "    for i in range(1,50):\n",
        "        l=l+(-1)**(i+1)*matrix_power(m-jnp.eye(jnp.shape(m)[0]),i)/i\n",
        "    return l/np.log(2)\n",
        "\n",
        "def von_neumann1(rho):\n",
        "    rho_log=matrix_log(rho)\n",
        "    return -jnp.trace(rho@rho_log)\n",
        "'''\n",
        "code to compute conditional entropy using matrix_log\n",
        "'''\n",
        "def cond_ent1(rho,unitary):\n",
        "    r0=rho\n",
        "    u=unitary\n",
        "    r1=u@r0@jnp.transpose(jnp.conjugate(u))\n",
        "    return 1+von_neumann1(r0)-von_neumann1(0.5*(r0+r1))\n",
        "def cond_ent_chan(w0,w1):\n",
        "  return 1+0.5*von_neumann(w0)+0.5*von_neumann(w1)-von_neumann(0.5*w0+0.5*w1)\n",
        "def cond_ent_chan1(w0,w1):\n",
        "  return 1+0.5*von_neumann1(w0)+0.5*von_neumann(w1)-von_neumann(0.5*w0+0.5*w1)\n",
        "def channel_entropy(r,r1):\n",
        "  return 1+0.5*von_neumann(r)+0.5*von_neumann(r1)-von_neumann(0.5*r+0.5*r1)\n"
      ],
      "metadata": {
        "id": "GEG2SEt4ZLq5"
      },
      "execution_count": 33,
      "outputs": []
    },
    {
      "cell_type": "markdown",
      "source": [
        "Finding dual channel for a CQ channel which outputs a qubit density operator"
      ],
      "metadata": {
        "id": "__M0L7OHl4h7"
      }
    },
    {
      "cell_type": "code",
      "source": [
        "def dual_chan_dim2(d,g,u):\n",
        "  r=rhom_jit(d,g)\n",
        "  r1=u@r@np.conjugate(np.transpose(u))\n",
        "  l0,v0=LA.eig(r)\n",
        "  v1=np.zeros(np.shape(v0))\n",
        "  v1[:,0]=pauli(1)@v0[:,0]\n",
        "  v1[:,1]=pauli(1)@v0[:,1]\n",
        "  q0=qubit(0)\n",
        "  q1=qubit(1)\n",
        "  p0=np.outer(q0,q0)\n",
        "  p1=np.outer(q0,q1)\n",
        "  p2=np.outer(q1,q0)\n",
        "  p3=np.outer(q1,q1)\n",
        "  t0=np.sqrt(l0[0])*np.sqrt(l0[0])*np.kron(p0,p0)+np.sqrt(l0[0])*np.sqrt(l0[1])*v0[:,0]@v1[:,1]*np.kron(p1,p0)+np.sqrt(l0[0])*np.sqrt(l0[0])*v0[:,0]@v1[:,0]*np.kron(p1,p1)\n",
        "  t1=np.sqrt(l0[1])*np.sqrt(l0[1])*np.kron(p0,p3)+np.sqrt(l0[0])*np.sqrt(l0[1])*v0[:,0]@v1[:,1]*np.kron(p1,p3)+np.sqrt(l0[1])*np.sqrt(l0[1])*v0[:,1]@v1[:,1]*np.kron(p1,p2)\n",
        "  t2=np.sqrt(l0[1])*np.sqrt(l0[1])*np.kron(p3,p0)+np.sqrt(l0[1])*np.sqrt(l0[0])*v0[:,1]@v1[:,0]*np.kron(p2,p0)+np.sqrt(l0[1])*np.sqrt(l0[1])*v0[:,1]@v1[:,1]*np.kron(p2,p1)\n",
        "  t3=np.sqrt(l0[0])*np.sqrt(l0[0])*np.kron(p3,p3)+np.sqrt(l0[1])*np.sqrt(l0[0])*v0[:,1]@v1[:,0]*np.kron(p2,p3)+np.sqrt(l0[0])*np.sqrt(l0[0])*v0[:,0]@v1[:,0]*np.kron(p2,p2)\n",
        "\n",
        "  return 0.5*(t0+t1+t2+t3)\n"
      ],
      "metadata": {
        "id": "YUA0JDbfZpIL"
      },
      "execution_count": 26,
      "outputs": []
    },
    {
      "cell_type": "markdown",
      "source": [
        "Sample code to calculate dual channel"
      ],
      "metadata": {
        "id": "YvQPcaO1mBVb"
      }
    },
    {
      "cell_type": "code",
      "source": [
        "r=rhom_jit(0.08,0.05)\n",
        "print('channel:\\n',r)\n",
        "r1=pauli(1)@r@pauli(1)\n",
        "dualr=dual_chan_dim2(0.08,0.05,pauli(1))\n",
        "print('channel:\\n',dualr)\n",
        "dualr1=np.kron(pauli(3),np.eye(2))@dualr@np.kron(pauli(3),np.eye(2))\n",
        "print('dual_channel1:\\n',dualr1)"
      ],
      "metadata": {
        "colab": {
          "base_uri": "https://localhost:8080/"
        },
        "id": "w9bzDRG8Z-Ba",
        "outputId": "e672ec1f-e3cd-41db-868b-eee0187dce05"
      },
      "execution_count": 45,
      "outputs": [
        {
          "output_type": "stream",
          "name": "stdout",
          "text": [
            "channel:\n",
            " [[0.08 0.05]\n",
            " [0.05 0.92]]\n",
            "channel:\n",
            " [[ 0.03851714  0.          0.13238809 -0.00455322]\n",
            " [ 0.          0.46148286  0.05455322  0.13238809]\n",
            " [ 0.13238809  0.05455322  0.46148286  0.        ]\n",
            " [-0.00455322  0.13238809  0.          0.03851714]]\n",
            "dual_channel1:\n",
            " [[ 0.03851714  0.         -0.13238809  0.00455322]\n",
            " [ 0.          0.46148286 -0.05455322 -0.13238809]\n",
            " [-0.13238809 -0.05455322  0.46148286  0.        ]\n",
            " [ 0.00455322 -0.13238809  0.          0.03851714]]\n"
          ]
        }
      ]
    },
    {
      "cell_type": "code",
      "source": [
        "h=channel_entropy(r,r1)\n",
        "h1=channel_entropy(dualr,dualr1)\n",
        "print('channel entropy:',h)\n",
        "print('dual channel entropy:',h1)\n",
        "print('Sum:',h+h1)"
      ],
      "metadata": {
        "colab": {
          "base_uri": "https://localhost:8080/"
        },
        "id": "SUktZgmYkzNV",
        "outputId": "451cc737-fb8b-4318-beac-0a7528e6e168"
      },
      "execution_count": 46,
      "outputs": [
        {
          "output_type": "stream",
          "name": "stdout",
          "text": [
            "channel entropy: 0.39886767\n",
            "dual channel entropy: 0.6011324\n",
            "Sum: 1.0\n"
          ]
        }
      ]
    },
    {
      "cell_type": "markdown",
      "source": [
        "Dual channel for BSC"
      ],
      "metadata": {
        "id": "lm8u9xfNmIqb"
      }
    },
    {
      "cell_type": "code",
      "source": [
        "r=rhom_jit(0.08,0)\n",
        "print('channel:\\n',r)\n",
        "r1=pauli(1)@r@pauli(1)\n",
        "dualr=dual_chan_dim2(0.08,0,pauli(1))\n",
        "print('channel:\\n',dualr)\n",
        "dualr1=np.kron(pauli(3),np.eye(2))@dualr@np.kron(pauli(3),np.eye(2))\n",
        "print('dual_channel1:\\n',dualr1)\n",
        "u=np.array([[1,0,0,0],[0,0,0,1],[0,0,1,0],[0,1,0,0]])\n",
        "#print(u)\n",
        "ef=u@dualr@np.transpose(u)\n",
        "ef1=np.reshape(ef,(2,2,2,2))\n",
        "#print(np.reshape(ef,(2,2,2,2)))\n",
        "ef1=np.einsum('ijkj->ik',ef1)\n",
        "print('reduced form:\\n',ef1)"
      ],
      "metadata": {
        "colab": {
          "base_uri": "https://localhost:8080/"
        },
        "id": "0vX9Yo5FaRSJ",
        "outputId": "9aacf3a0-cad0-443e-ec80-d066ecfc2084"
      },
      "execution_count": 28,
      "outputs": [
        {
          "output_type": "stream",
          "name": "stdout",
          "text": [
            "channel:\n",
            " [[0.08 0.  ]\n",
            " [0.   0.92]]\n",
            "channel:\n",
            " [[0.04      0.        0.1356466 0.       ]\n",
            " [0.        0.46      0.        0.1356466]\n",
            " [0.1356466 0.        0.46      0.       ]\n",
            " [0.        0.1356466 0.        0.04     ]]\n",
            "dual_channel1:\n",
            " [[ 0.04       0.        -0.1356466  0.       ]\n",
            " [ 0.         0.46       0.        -0.1356466]\n",
            " [-0.1356466  0.         0.46       0.       ]\n",
            " [ 0.        -0.1356466  0.         0.04     ]]\n",
            "reduced form:\n",
            " [[0.08      0.2712932]\n",
            " [0.2712932 0.92     ]]\n"
          ]
        }
      ]
    },
    {
      "cell_type": "markdown",
      "source": [
        "Code to compare bsc and its dual"
      ],
      "metadata": {
        "id": "sLa2UYPXmL0W"
      }
    },
    {
      "cell_type": "code",
      "source": [
        "def bsc_psc(p,u):\n",
        "  dualr=dual_chan_dim2(p,0,u)\n",
        "  dualr1=np.kron(pauli(3),np.eye(2))@dualr@np.kron(pauli(3),np.eye(2))\n",
        "  u_sw=np.array([[1,0,0,0],[0,0,0,1],[0,0,1,0],[0,1,0,0]])\n",
        "  ef=u_sw@dualr@np.transpose(u_sw)\n",
        "  ef1=np.reshape(ef,(2,2,2,2))\n",
        "  ef1=np.einsum('ijkj->ik',ef1)\n",
        "  return ef1\n"
      ],
      "metadata": {
        "id": "wErHeaTHbOXf"
      },
      "execution_count": 29,
      "outputs": []
    },
    {
      "cell_type": "code",
      "source": [
        "def bsc_psc_success(p,u):\n",
        "  l=len(p)\n",
        "  bsc=[]\n",
        "  psc=[]\n",
        "  for i in range(0,l):\n",
        "    r=rhom_jit(p[i],0)\n",
        "    r1=u@r@np.conjugate(np.transpose(u))\n",
        "    h=helstrom_success_rho(r,r1)\n",
        "    ps=bsc_psc(p[i],u)\n",
        "    ps1=pauli(3)@ps@pauli(3)\n",
        "    h1=helstrom_success_rho(ps,ps1)\n",
        "    bsc.append(h)\n",
        "    psc.append(h1)\n",
        "  return bsc,psc\n",
        "\n",
        "def bsc_psc_entropy(p,u):\n",
        "  l=len(p)\n",
        "  bsc=[]\n",
        "  psc=[]\n",
        "  tot=[]\n",
        "  for i in range(0,l):\n",
        "    r=rhom_jit(p[i],0)\n",
        "    r1=u@r@np.conjugate(np.transpose(u))\n",
        "    h=channel_entropy(r,r1)\n",
        "    ps=bsc_psc(p[i],u)\n",
        "    ps1=pauli(3)@ps@pauli(3)\n",
        "    h1=channel_entropy(ps,ps1)\n",
        "    bsc.append(h)\n",
        "    psc.append(h1)\n",
        "    tot.append(h+h1)\n",
        "  return bsc,psc,tot\n"
      ],
      "metadata": {
        "id": "Aalhw0CrcQ6B"
      },
      "execution_count": 34,
      "outputs": []
    },
    {
      "cell_type": "markdown",
      "source": [
        "Plots"
      ],
      "metadata": {
        "id": "mJYMcOeBmRXL"
      }
    },
    {
      "cell_type": "code",
      "source": [
        "p=np.arange(0,1,0.05)\n",
        "bsc,psc=bsc_psc_success(p,pauli(1))\n",
        "\n",
        "\n",
        "pl.plot(p,bsc,linestyle='-',markersize=7.5)\n",
        "pl.plot(p,psc,linestyle='-',markersize=7.5)\n",
        "pl.xticks(fontsize=18)\n",
        "\n",
        "pl.yticks(fontsize=18)\n",
        "pl.grid(which='major',linestyle='--',linewidth=1)\n",
        "pl.grid(which='minor', linestyle='--', linewidth='0.5')\n",
        "pl.minorticks_on()\n",
        "\n",
        "pl.xlabel(r'$p$',fontsize=23)\n",
        "pl.ylabel('Helstrom success probability',fontsize=23)\n",
        "pl.legend((r'$W_{BSC}$',r'$W_{PSC}=W_{BSC}^{\\perp}$'),fontsize=10)\n",
        "pl.savefig(\"helstrom_success_bsc_psc.pdf\",bbox_inches='tight')\n",
        "files.download(\"helstrom_success_bsc_psc.pdf\")\n",
        "pl.show()\n"
      ],
      "metadata": {
        "colab": {
          "base_uri": "https://localhost:8080/",
          "height": 362
        },
        "id": "eHheqJpzddbv",
        "outputId": "75b61d1a-af7f-4bf8-8e27-19a01bfc8161"
      },
      "execution_count": 43,
      "outputs": [
        {
          "output_type": "display_data",
          "data": {
            "text/plain": [
              "<IPython.core.display.Javascript object>"
            ],
            "application/javascript": [
              "\n",
              "    async function download(id, filename, size) {\n",
              "      if (!google.colab.kernel.accessAllowed) {\n",
              "        return;\n",
              "      }\n",
              "      const div = document.createElement('div');\n",
              "      const label = document.createElement('label');\n",
              "      label.textContent = `Downloading \"${filename}\": `;\n",
              "      div.appendChild(label);\n",
              "      const progress = document.createElement('progress');\n",
              "      progress.max = size;\n",
              "      div.appendChild(progress);\n",
              "      document.body.appendChild(div);\n",
              "\n",
              "      const buffers = [];\n",
              "      let downloaded = 0;\n",
              "\n",
              "      const channel = await google.colab.kernel.comms.open(id);\n",
              "      // Send a message to notify the kernel that we're ready.\n",
              "      channel.send({})\n",
              "\n",
              "      for await (const message of channel.messages) {\n",
              "        // Send a message to notify the kernel that we're ready.\n",
              "        channel.send({})\n",
              "        if (message.buffers) {\n",
              "          for (const buffer of message.buffers) {\n",
              "            buffers.push(buffer);\n",
              "            downloaded += buffer.byteLength;\n",
              "            progress.value = downloaded;\n",
              "          }\n",
              "        }\n",
              "      }\n",
              "      const blob = new Blob(buffers, {type: 'application/binary'});\n",
              "      const a = document.createElement('a');\n",
              "      a.href = window.URL.createObjectURL(blob);\n",
              "      a.download = filename;\n",
              "      div.appendChild(a);\n",
              "      a.click();\n",
              "      div.remove();\n",
              "    }\n",
              "  "
            ]
          },
          "metadata": {}
        },
        {
          "output_type": "display_data",
          "data": {
            "text/plain": [
              "<IPython.core.display.Javascript object>"
            ],
            "application/javascript": [
              "download(\"download_b9e50a54-06fd-49fc-9096-50eaf040d430\", \"helstrom_success_bsc_psc.pdf\", 18643)"
            ]
          },
          "metadata": {}
        },
        {
          "output_type": "display_data",
          "data": {
            "text/plain": [
              "<Figure size 432x288 with 1 Axes>"
            ],
            "image/png": "[encoded data removed]"
          },
          "metadata": {
            "needs_background": "light"
          }
        }
      ]
    },
    {
      "cell_type": "code",
      "source": [
        "p=np.arange(0.01,1,0.05)\n",
        "bsc,psc,tot=bsc_psc_entropy(p,pauli(1))\n",
        "\n",
        "\n",
        "pl.plot(p,bsc,linestyle='-',markersize=7.5)\n",
        "pl.plot(p,psc,linestyle='-',markersize=7.5)\n",
        "pl.plot(p,tot,linestyle='-',markersize=7.5)\n",
        "pl.xticks(fontsize=18)\n",
        "\n",
        "pl.yticks(fontsize=18)\n",
        "pl.grid(which='major',linestyle='--',linewidth=1)\n",
        "pl.grid(which='minor', linestyle='--', linewidth='0.5')\n",
        "pl.minorticks_on()\n",
        "\n",
        "pl.xlabel(r'$p$',fontsize=23)\n",
        "pl.ylabel('H(W)',fontsize=23)\n",
        "pl.legend((r'$H(W_{BSC})$',r'$H(W_{PSC})=H(W_{BSC}^{\\perp})$',r'$H(W_{BSC})+H(W_{PSC})$'),fontsize=10)\n",
        "pl.savefig(\"channel_entropy_bsc_psc.pdf\",bbox_inches='tight')\n",
        "files.download(\"channel_entropy_bsc_psc.pdf\")\n",
        "pl.show()\n"
      ],
      "metadata": {
        "colab": {
          "base_uri": "https://localhost:8080/",
          "height": 404
        },
        "id": "_x2baroqek8H",
        "outputId": "2d773ae0-2ca4-4f3c-8419-3daee3e51444"
      },
      "execution_count": 42,
      "outputs": [
        {
          "output_type": "stream",
          "name": "stderr",
          "text": [
            "/usr/local/lib/python3.8/dist-packages/scipy/linalg/_matfuncs_inv_ssq.py:827: LogmExactlySingularWarning: The logm input matrix is exactly singular.\n",
            "  warnings.warn(exact_singularity_msg, LogmExactlySingularWarning)\n",
            "/usr/local/lib/python3.8/dist-packages/matplotlib/cbook/__init__.py:1317: ComplexWarning: Casting complex values to real discards the imaginary part\n",
            "  return np.asarray(x, float)\n",
            "/usr/local/lib/python3.8/dist-packages/matplotlib/cbook/__init__.py:1317: ComplexWarning: Casting complex values to real discards the imaginary part\n",
            "  return np.asarray(x, float)\n"
          ]
        },
        {
          "output_type": "display_data",
          "data": {
            "text/plain": [
              "<IPython.core.display.Javascript object>"
            ],
            "application/javascript": [
              "\n",
              "    async function download(id, filename, size) {\n",
              "      if (!google.colab.kernel.accessAllowed) {\n",
              "        return;\n",
              "      }\n",
              "      const div = document.createElement('div');\n",
              "      const label = document.createElement('label');\n",
              "      label.textContent = `Downloading \"${filename}\": `;\n",
              "      div.appendChild(label);\n",
              "      const progress = document.createElement('progress');\n",
              "      progress.max = size;\n",
              "      div.appendChild(progress);\n",
              "      document.body.appendChild(div);\n",
              "\n",
              "      const buffers = [];\n",
              "      let downloaded = 0;\n",
              "\n",
              "      const channel = await google.colab.kernel.comms.open(id);\n",
              "      // Send a message to notify the kernel that we're ready.\n",
              "      channel.send({})\n",
              "\n",
              "      for await (const message of channel.messages) {\n",
              "        // Send a message to notify the kernel that we're ready.\n",
              "        channel.send({})\n",
              "        if (message.buffers) {\n",
              "          for (const buffer of message.buffers) {\n",
              "            buffers.push(buffer);\n",
              "            downloaded += buffer.byteLength;\n",
              "            progress.value = downloaded;\n",
              "          }\n",
              "        }\n",
              "      }\n",
              "      const blob = new Blob(buffers, {type: 'application/binary'});\n",
              "      const a = document.createElement('a');\n",
              "      a.href = window.URL.createObjectURL(blob);\n",
              "      a.download = filename;\n",
              "      div.appendChild(a);\n",
              "      a.click();\n",
              "      div.remove();\n",
              "    }\n",
              "  "
            ]
          },
          "metadata": {}
        },
        {
          "output_type": "display_data",
          "data": {
            "text/plain": [
              "<IPython.core.display.Javascript object>"
            ],
            "application/javascript": [
              "download(\"download_e0e98fed-e9b5-4967-99c4-47d5b7f2a586\", \"channel_entropy_bsc_psc.pdf\", 14661)"
            ]
          },
          "metadata": {}
        },
        {
          "output_type": "display_data",
          "data": {
            "text/plain": [
              "<Figure size 432x288 with 1 Axes>"
            ],
            "image/png": "[encoded data removed]"
          },
          "metadata": {
            "needs_background": "light"
          }
        }
      ]
    }
  ]
}